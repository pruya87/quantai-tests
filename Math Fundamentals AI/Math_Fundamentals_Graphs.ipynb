{
 "cells": [
  {
   "cell_type": "code",
   "execution_count": null,
   "metadata": {
    "id": "Dl2oLCsJ8H1W"
   },
   "outputs": [],
   "source": [
    "# Node or vertex\n",
    "# Edge line between nodes\n",
    "# Path edges connecting node A to node C\n",
    "\n",
    "# Connected graph: all nodes have at least one connection\n",
    "# Cyclical graph: There are at least one loop in the graph\n",
    "# Tree: connected acyclical graph\n",
    "\n",
    "# Directed graph: Unidirectional edges\n",
    "# Undirected graph: Bidirectional edges\n",
    "\n",
    "# Weighted graph: Edges have a weight (distance)"
   ]
  },
  {
   "cell_type": "code",
   "execution_count": null,
   "metadata": {
    "colab": {
     "base_uri": "https://localhost:8080/"
    },
    "id": "lqAmtAQo-yCH",
    "outputId": "07e53481-33cf-43ac-947a-6a4c2bbaaf7b"
   },
   "outputs": [],
   "source": [
    "!pip install networkx"
   ]
  },
  {
   "cell_type": "code",
   "execution_count": null,
   "metadata": {
    "id": "g7Rp1-pS-1Bt"
   },
   "outputs": [],
   "source": [
    "import networkx as nx\n",
    "import matplotlib.pyplot as plt"
   ]
  },
  {
   "cell_type": "code",
   "execution_count": null,
   "metadata": {
    "colab": {
     "base_uri": "https://localhost:8080/",
     "height": 35
    },
    "id": "RK6ufTwj-8H8",
    "outputId": "185981e3-af56-43f5-f178-7cfa4a0c582a"
   },
   "outputs": [],
   "source": [
    "nx.__version__"
   ]
  },
  {
   "cell_type": "code",
   "execution_count": null,
   "metadata": {
    "colab": {
     "base_uri": "https://localhost:8080/"
    },
    "id": "FquYep5Z_AnB",
    "outputId": "3dc02a01-3de4-488f-af2b-69551d62a4b9"
   },
   "outputs": [],
   "source": [
    "G = nx.Graph()\n",
    "G"
   ]
  },
  {
   "cell_type": "code",
   "execution_count": null,
   "metadata": {
    "colab": {
     "base_uri": "https://localhost:8080/"
    },
    "id": "Tw1-NjMK_EU3",
    "outputId": "2233e724-949f-49cc-9c74-72fdb71d604b"
   },
   "outputs": [],
   "source": [
    "G.add_node('A')\n",
    "G.nodes"
   ]
  },
  {
   "cell_type": "code",
   "execution_count": null,
   "metadata": {
    "colab": {
     "base_uri": "https://localhost:8080/"
    },
    "id": "eERJP4uE_Jna",
    "outputId": "5a0fbe2a-16b2-4fdc-faf0-7407808b1488"
   },
   "outputs": [],
   "source": [
    "G.add_nodes_from(['B','C','D'])\n",
    "G.nodes"
   ]
  },
  {
   "cell_type": "code",
   "execution_count": null,
   "metadata": {
    "colab": {
     "base_uri": "https://localhost:8080/",
     "height": 406
    },
    "id": "vuIsxYwc_Tdb",
    "outputId": "cafe98bc-ac4b-4a22-c3f0-8c3c6327328b"
   },
   "outputs": [],
   "source": [
    "plt.subplots()\n",
    "nx.draw(G)"
   ]
  },
  {
   "cell_type": "code",
   "execution_count": null,
   "metadata": {
    "colab": {
     "base_uri": "https://localhost:8080/"
    },
    "id": "lWY1tPJqAjFv",
    "outputId": "742f8a7d-73c5-47a7-f45d-a88de1aa6436"
   },
   "outputs": [],
   "source": [
    "G.add_edge('A', 'B')\n",
    "G.add_edge('B', 'C')\n",
    "G.add_edge('D', 'C')\n",
    "G.add_edge('C', 'A')\n",
    "\n",
    "##Alternatively G.add_edges_from([('A','B'),('B','C'),('D','C'),('C','A')])\n",
    "H = nx.Graph()\n",
    "H.add_edges_from([('W','X'),('W','Z'),('W','Y'),('X','Z'),('X','Y')])\n",
    "\n",
    "print(G.nodes, G.edges)\n",
    "print(G.number_of_nodes(), G.number_of_edges())"
   ]
  },
  {
   "cell_type": "code",
   "execution_count": null,
   "metadata": {
    "id": "bNktx9kP_vKq"
   },
   "outputs": [],
   "source": [
    "def plot_graph(G, node_color, edge_color):\n",
    "  plt.subplots(figsize=(8, 8))\n",
    "  ax = plt.gca()\n",
    "  ax.margins(0.20)\n",
    "  plt.axis('off')\n",
    "\n",
    "  options = {\n",
    "      \"font_size\": 24,\n",
    "      \"with_labels\": True,\n",
    "      \"node_size\": 1500,\n",
    "      \"node_color\": node_color,\n",
    "      \"edge_color\": edge_color,\n",
    "      \"linewidths\": 5,\n",
    "      \"width\": 5,\n",
    "  }\n",
    "\n",
    "  nx.draw_shell(G, **options)\n",
    "\n"
   ]
  },
  {
   "cell_type": "code",
   "execution_count": null,
   "metadata": {
    "colab": {
     "base_uri": "https://localhost:8080/",
     "height": 653
    },
    "id": "wn02WLbkBgxS",
    "outputId": "98215376-faac-47b1-f808-fa05445438aa"
   },
   "outputs": [],
   "source": [
    "plot_graph(H, 'lightblue', 'blue')"
   ]
  },
  {
   "cell_type": "code",
   "execution_count": null,
   "metadata": {
    "colab": {
     "base_uri": "https://localhost:8080/"
    },
    "id": "ZXCCwCzkDjCt",
    "outputId": "246ff0d5-9f50-4e91-943e-d59ce4a5bfec"
   },
   "outputs": [],
   "source": [
    "# Degree are the number of edges connecting to a node\n",
    "print(f\"B connects to {G.degree('B')} edges\")\n",
    "\n",
    "# Adjacencies are the nodes conneting to a node\n",
    "print(f\"The nodes connecting to B are: {G.adj['B']}\")"
   ]
  },
  {
   "cell_type": "code",
   "execution_count": null,
   "metadata": {
    "colab": {
     "base_uri": "https://localhost:8080/"
    },
    "id": "AaQZ4DuMEzq9",
    "outputId": "81b64d03-f39a-4de5-8767-14e3c13236ab"
   },
   "outputs": [],
   "source": [
    "# Assing attributes to a graph\n",
    "\n",
    "G.graph['organization'] = \"Phlogistix\"\n",
    "G.graph['num_employees'] = 7\n",
    "\n",
    "G.graph\n",
    "\n",
    "# To a new node\n",
    "\n",
    "G.add_node('Q', city='Quebec City')\n",
    "\n",
    "# To a existing node\n",
    "\n",
    "G.nodes['A']['city'] = 'Armgstrong'\n",
    "\n",
    "# A distanced edge\n",
    "\n",
    "G.add_edge('Q','A', distance=245)\n",
    "\n",
    "for data in G.edges.data():\n",
    "  print(data)"
   ]
  },
  {
   "cell_type": "code",
   "execution_count": null,
   "metadata": {
    "id": "gcG-apFJHh9x"
   },
   "outputs": [],
   "source": [
    "## Directional graph\n",
    "\n",
    "DG = nx.DiGraph()\n",
    "DG.add_edges_from([('A','B'),('B','C'),('D','C'),('C','E'),('E','B')])"
   ]
  },
  {
   "cell_type": "code",
   "execution_count": null,
   "metadata": {
    "colab": {
     "base_uri": "https://localhost:8080/",
     "height": 653
    },
    "id": "TDrtPI3vIKVf",
    "outputId": "ce4e28ea-853e-45ec-9057-1286dd908510"
   },
   "outputs": [],
   "source": [
    "plot_graph(DG, 'azure', 'blue')"
   ]
  },
  {
   "cell_type": "code",
   "execution_count": null,
   "metadata": {
    "colab": {
     "base_uri": "https://localhost:8080/"
    },
    "id": "9zqlu-rTJCwR",
    "outputId": "03505200-a9f1-420d-cbc4-e8b7b40f7c76"
   },
   "outputs": [],
   "source": [
    "print(f\"Number of edges connected to B: {DG.degree('B')}\")\n",
    "print(f\"Number of edges going out of B: {DG.out_degree('B')}\")\n",
    "print(f\"Number of edges going to B: {DG.in_degree('B')}\")"
   ]
  },
  {
   "cell_type": "code",
   "execution_count": null,
   "metadata": {
    "colab": {
     "base_uri": "https://localhost:8080/"
    },
    "id": "Jt4h1VOUJeF7",
    "outputId": "dadc278c-ceeb-4d3c-fa9d-46710ef2f8fc"
   },
   "outputs": [],
   "source": [
    "print(DG.has_edge('A','B'))\n",
    "print(DG.has_edge('B','A'))"
   ]
  },
  {
   "cell_type": "code",
   "execution_count": null,
   "metadata": {
    "colab": {
     "base_uri": "https://localhost:8080/"
    },
    "id": "23oBsNnmJrs0",
    "outputId": "56388a3b-61e5-4e12-f374-09fdeed01550"
   },
   "outputs": [],
   "source": [
    "print(DG.succ['B'])\n",
    "print(DG.pred['B'])"
   ]
  }
 ],
 "metadata": {
  "colab": {
   "provenance": []
  },
  "kernelspec": {
   "display_name": "Python 3",
   "name": "python3"
  },
  "language_info": {
   "name": "python"
  }
 },
 "nbformat": 4,
 "nbformat_minor": 0
}
