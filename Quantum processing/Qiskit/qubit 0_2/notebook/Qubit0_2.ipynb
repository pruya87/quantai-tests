{
 "cells": [
  {
   "cell_type": "markdown",
   "metadata": {
    "id": "f4Z54KViHyCu"
   },
   "source": [
    "Context: Quantum Teleportation Recap\n",
    "\n",
    "    Alice wants to teleport the state of her qubit 0 to Bob's qubit 2.\n",
    "\n",
    "    Alice and Bob share an entangled pair between qubits 1 and 2.\n",
    "\n",
    "    Alice performs a Bell measurement on her qubits (0 and 1). This measurement collapses those qubits and gives her two classical bits of outcome — effectively telling her which Bell state the qubits collapsed into.\n",
    "\n",
    "    Because of entanglement and measurement, Bob’s qubit 2 ends up in a state related to Alice's original qubit, but modified by some Pauli operators XX and ZZ depending on Alice’s measurement result."
   ]
  },
  {
   "cell_type": "markdown",
   "metadata": {
    "id": "AdUJ3Au9KUCU"
   },
   "source": [
    "| Alice’s result | Bob’s qubit state before correction | Correction needed | Bob’s final state matches Alice’s original |\n",
    "| -------------- | ----------------------------------- | ----------------- | ------------------------------------------ |\n",
    "| 00             | Exactly original                    | None              | Yes                                        |\n",
    "| 01             | Original state with Z phase flip    | Apply $Z$         | Yes                                        |\n",
    "| 10             | Original state with X bit flip      | Apply $X$         | Yes                                        |\n",
    "| 11             | Original state with both flips      | Apply $X$ and $Z$ | Yes                                        |\n"
   ]
  },
  {
   "cell_type": "code",
   "execution_count": null,
   "metadata": {
    "id": "af7U52lX7lA0"
   },
   "outputs": [],
   "source": [
    "!pip install qiskit --quiet\n",
    "!pip install qiskit_aer --quiet\n",
    "!pip install pylatexenc --quiet"
   ]
  },
  {
   "cell_type": "code",
   "execution_count": null,
   "metadata": {
    "id": "36-SiwsG7dUC"
   },
   "outputs": [],
   "source": [
    "from qiskit import QuantumCircuit, transpile\n",
    "from qiskit_aer import AerSimulator\n",
    "from qiskit.visualization import plot_histogram, plot_bloch_multivector\n",
    "from qiskit.quantum_info import Statevector\n",
    "import matplotlib.pyplot as plt\n",
    "import IPython.display\n",
    "import io\n",
    "from PIL import Image"
   ]
  },
  {
   "cell_type": "markdown",
   "metadata": {
    "id": "xGqOcWrXFAXz"
   },
   "source": [
    "Qubit Roles\n",
    "\n",
    "    Qubit 0: Alice’s input qubit — the qubit state you want to teleport.\n",
    "\n",
    "    Qubit 1: Alice’s half of the entangled pair.\n",
    "\n",
    "    Qubit 2: Bob’s half of the entangled pair — the qubit that will receive the teleported state."
   ]
  },
  {
   "cell_type": "code",
   "execution_count": null,
   "metadata": {
    "colab": {
     "base_uri": "https://localhost:8080/",
     "height": 255
    },
    "id": "RasDo4KT7fkZ",
    "outputId": "0105ef05-b72f-4b6d-8a80-a4d9fe9b4e74"
   },
   "outputs": [],
   "source": [
    "# Step 1: Create the full circuit with 3 qubits\n",
    "qc = QuantumCircuit(3)  # 3 qubits, no classical bits since no measurement here\n",
    "\n",
    "# Step 2: Alice's qubit (qubit 0) in a state to be teleported (e.g., Hadamard for superposition)\n",
    "qc.h(0)  # You can replace this with other gates to test different states\n",
    "\n",
    "# Step 3: Create entanglement between qubit 1 and 2 (shared between Alice and Bob)\n",
    "qc.h(1)\n",
    "qc.cx(1, 2)\n",
    "\n",
    "# Step 4: Bell on Alice's side (qubits 0 and 1)\n",
    "qc.cx(0, 1)\n",
    "qc.h(0)\n",
    "\n",
    "# So now qubits 1 and 2 form an EPR pair shared between Alice (qubit 1) and Bob (qubit 2).\n",
    "\n",
    "# Step 5: Apply correction on Bob's qubit (qubit 2)\n",
    "# We’ll use the Aer simulator’s \"qasm_simulator\" to simulate this\n",
    "# and use the \"conditional gates\" in a second circuit later\n",
    "\n",
    "qc.draw('mpl')"
   ]
  },
  {
   "cell_type": "code",
   "execution_count": null,
   "metadata": {
    "colab": {
     "base_uri": "https://localhost:8080/"
    },
    "id": "DuqdSJms8ghq",
    "outputId": "a21f1a67-24e8-4a1a-86fe-c50c040f6da5"
   },
   "outputs": [],
   "source": [
    "# For execution in qiskit >= 1 (Newer version)\n",
    "\n",
    "simulator = AerSimulator()\n",
    "compiled_circuit = transpile(qc, simulator)\n",
    "\n",
    "# Run with only 1 shot to extract a single measurement\n",
    "result = simulator.run(compiled_circuit, shots=1, memory=True).result()\n",
    "memory = result.get_memory()[0]  # e.g., '10'\n",
    "print(\"Alice's measurement:\", memory)\n"
   ]
  },
  {
   "cell_type": "code",
   "execution_count": null,
   "metadata": {
    "id": "pDr8snNh8j7b"
   },
   "outputs": [],
   "source": [
    "# Create new circuit only for Bob's correction\n",
    "correction = QuantumCircuit(3)\n",
    "\n",
    "# Apply conditional corrections based on Alice's measurement\n",
    "if memory[1] == '1':  # Remember: memory is little-endian ('cb')\n",
    "    correction.x(2)\n",
    "if memory[0] == '1':\n",
    "    correction.z(2)\n"
   ]
  },
  {
   "cell_type": "code",
   "execution_count": null,
   "metadata": {
    "colab": {
     "base_uri": "https://localhost:8080/",
     "height": 372
    },
    "id": "-6Jodvku9d67",
    "outputId": "1983cc52-4b9d-437c-bc27-97b39ba6faf5"
   },
   "outputs": [],
   "source": [
    "# Remove measurements for pure state simulation\n",
    "qc_no_measure = qc.remove_final_measurements(inplace=False)\n",
    "full = qc_no_measure.compose(correction)\n",
    "\n",
    "# Now simulate the state\n",
    "final_state = Statevector.from_instruction(full)\n",
    "bloch = plot_bloch_multivector(final_state.data, title=\"Bob's Qubit State\")\n",
    "buf = io.BytesIO()\n",
    "bloch.savefig(buf)\n",
    "buf.seek(0)\n",
    "plt.close(bloch)\n",
    "fig, ax = plt.subplots(1, 1, figsize=(10, 10))\n",
    "ax.imshow(Image.open(buf))\n",
    "ax.axis('off')\n",
    "ax.set_title('Teleport')\n",
    "plt.show()\n"
   ]
  },
  {
   "cell_type": "code",
   "execution_count": null,
   "metadata": {
    "colab": {
     "base_uri": "https://localhost:8080/",
     "height": 521
    },
    "id": "nVs-TbnfA83S",
    "outputId": "251363c8-b44c-4c1a-e833-d6334d182f17"
   },
   "outputs": [],
   "source": [
    "from qiskit.quantum_info import partial_trace\n",
    "\n",
    "# Get the reduced state for Bob's qubit (qubit 2)\n",
    "bob_state = partial_trace(final_state, [0, 1])  # Trace out qubit 0 and 1\n",
    "\n",
    "# Plot only Bob's Bloch sphere\n",
    "bloch = plot_bloch_multivector(bob_state, title=\"Bob's Qubit After Teleportation\")\n",
    "buf = io.BytesIO()\n",
    "bloch.savefig(buf)\n",
    "buf.seek(0)\n",
    "plt.close(bloch)\n",
    "\n",
    "fig, ax = plt.subplots(1, 1, figsize=(6, 6))\n",
    "ax.imshow(Image.open(buf))\n",
    "ax.axis('off')\n",
    "ax.set_title('Teleportation Result (Bob)')\n",
    "plt.show()"
   ]
  }
 ],
 "metadata": {
  "colab": {
   "provenance": []
  },
  "kernelspec": {
   "display_name": "Python 3",
   "name": "python3"
  },
  "language_info": {
   "name": "python"
  }
 },
 "nbformat": 4,
 "nbformat_minor": 0
}
