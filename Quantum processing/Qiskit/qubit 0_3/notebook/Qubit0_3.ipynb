{
 "cells": [
  {
   "cell_type": "markdown",
   "metadata": {
    "id": "Neg3CqtUT_FD"
   },
   "source": []
  },
  {
   "cell_type": "code",
   "execution_count": null,
   "metadata": {
    "id": "cD1fIx3hUDzF"
   },
   "outputs": [],
   "source": [
    "!pip install qiskit --quiet\n",
    "!pip install qiskit_aer --quiet\n",
    "!pip install pylatexenc --quiet"
   ]
  },
  {
   "cell_type": "markdown",
   "metadata": {
    "id": "JpJ3LTdtVb-s"
   },
   "source": [
    "The GHZ state is a superposition of all qubits being 0 and all qubits being 1. Until you measure, the system is in both states at once.\n",
    "\n",
    "When you measure any one qubit:\n",
    "\n",
    "    If it’s 0, the others collapse to 0 as well.\n",
    "\n",
    "    If it’s 1, the others collapse to 1."
   ]
  },
  {
   "cell_type": "code",
   "execution_count": null,
   "metadata": {
    "colab": {
     "base_uri": "https://localhost:8080/",
     "height": 320
    },
    "id": "ztdFdLCIT-hl",
    "outputId": "d5ee3375-8c97-4b05-d141-21cfbb88c70f"
   },
   "outputs": [],
   "source": [
    "from qiskit import QuantumCircuit, transpile\n",
    "from qiskit_aer import AerSimulator\n",
    "from qiskit.visualization import plot_histogram\n",
    "import matplotlib.pyplot as plt\n",
    "\n",
    "# Create 3-qubit circuit\n",
    "qc = QuantumCircuit(3, 3)\n",
    "\n",
    "# Step 1: Create GHZ state\n",
    "qc.h(0)        # Hadamard on qubit 0 to create superposition\n",
    "qc.cx(0, 1)    # CNOT from qubit 0 to 1\n",
    "qc.cx(0, 2)    # CNOT from qubit 0 to 2\n",
    "\n",
    "# Step 2: Measure all qubits\n",
    "qc.measure(range(3), range(3))\n",
    "\n",
    "qc.draw('mpl')\n",
    "\n",
    "\n"
   ]
  },
  {
   "cell_type": "code",
   "execution_count": null,
   "metadata": {
    "colab": {
     "base_uri": "https://localhost:8080/"
    },
    "id": "4CFJ_cT0XOtF",
    "outputId": "32ac63c6-b102-4e86-da5b-7892c1b1d835"
   },
   "outputs": [],
   "source": [
    "# Run simulation\n",
    "simulator = AerSimulator()\n",
    "compiled = transpile(qc, simulator)\n",
    "result = simulator.run(compiled, shots=1024).result()\n",
    "\n",
    "counts = result.get_counts()\n",
    "print(\"Measurement results:\", counts)\n",
    "\n",
    "# Plot results\n",
    "plot_histogram(counts)\n",
    "plt.show()\n"
   ]
  }
 ],
 "metadata": {
  "colab": {
   "provenance": []
  },
  "kernelspec": {
   "display_name": "Python 3",
   "name": "python3"
  },
  "language_info": {
   "name": "python"
  }
 },
 "nbformat": 4,
 "nbformat_minor": 0
}
