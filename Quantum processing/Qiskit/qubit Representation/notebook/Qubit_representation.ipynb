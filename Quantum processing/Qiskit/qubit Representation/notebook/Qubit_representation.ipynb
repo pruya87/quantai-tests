{
 "cells": [
  {
   "cell_type": "code",
   "execution_count": null,
   "metadata": {
    "id": "LEe3sxT22A7h"
   },
   "outputs": [],
   "source": [
    "import numpy as np\n",
    "import matplotlib.pyplot as plt\n",
    "from mpl_toolkits.mplot3d import Axes3D\n",
    "\n"
   ]
  },
  {
   "cell_type": "code",
   "execution_count": null,
   "metadata": {
    "colab": {
     "base_uri": "https://localhost:8080/",
     "height": 455
    },
    "id": "Oq0llzKh2H_n",
    "outputId": "cc5d34a3-eddd-48d3-d62d-37d23abcdae2"
   },
   "outputs": [],
   "source": [
    "def bloch_vector(theta, phi):\n",
    "    \"\"\"Convert spherical coords to cartesian on Bloch sphere.\"\"\"\n",
    "    x = np.sin(theta) * np.cos(phi)\n",
    "    y = np.sin(theta) * np.sin(phi)\n",
    "    z = np.cos(theta)\n",
    "    return np.array([x, y, z])\n",
    "\n",
    "fig = plt.figure()\n",
    "ax = fig.add_subplot(111, projection='3d')\n",
    "\n",
    "# Plot the Bloch sphere\n",
    "# Azimuthal angle ax (equator = φ)\n",
    "u = np.linspace(0, 2 * np.pi, 100)\n",
    "# Polar angle ax (altitude = θ)\n",
    "v = np.linspace(0, np.pi, 100)\n",
    "# This calculates all the sphere points by revolving the u and v vectors\n",
    "# x=cos(u)sin(v),y=sin(u)sin(v),z=cos(v) ==> spherical (u,v) to cartesian (x,y,z)\n",
    "x = np.outer(np.cos(u), np.sin(v))\n",
    "y = np.outer(np.sin(u), np.sin(v))\n",
    "z = np.outer(np.ones(np.size(u)), np.cos(v))\n",
    "ax.plot_surface(x, y, z, color='c', alpha=0.1)\n",
    "\n",
    "# Azimuth circle in XY plane\n",
    "azimuth_circle = np.linspace(0, phi - 8, 100)\n",
    "ax.plot(np.cos(azimuth_circle), np.sin(azimuth_circle), 0, color='blue', linestyle='--', label='Azimuth')\n",
    "\n",
    "# Polar arc in XZ plane (for simplicity, assuming phi=0)\n",
    "polar_arc_theta = np.linspace(0, theta - 8, 100)\n",
    "ax.plot(np.sin(polar_arc_theta), 0, np.cos(polar_arc_theta), color='green', linestyle='--', label='Altitude')\n",
    "\n",
    "# Initial state: |0> north pole (theta=0)\n",
    "theta = np.pi/2  # 90 degrees, equator\n",
    "phi = 0\n",
    "\n",
    "vec = bloch_vector(theta, phi)\n",
    "point, = ax.plot([vec[0]], [vec[1]], [vec[2]], 'ro', markersize=10)\n",
    "\n",
    "# Probabilities of measuring |0> and |1>\n",
    "p0 = (1 + vec[2]) / 2  # z component\n",
    "p1 = 1 - p0\n",
    "\n",
    "ax.text2D(0.05, 0.95, f\"P(|0⟩)={p0:.2f}\\nP(|1⟩)={p1:.2f}\", transform=ax.transAxes)\n",
    "\n",
    "ax.set_xlim([-1,1])\n",
    "ax.set_ylim([-1,1])\n",
    "ax.set_zlim([-1,1])\n",
    "ax.set_box_aspect([1,1,1])\n",
    "plt.title(\"Bloch Sphere & Measurement Probabilities\")\n",
    "plt.show()"
   ]
  },
  {
   "cell_type": "code",
   "execution_count": null,
   "metadata": {
    "colab": {
     "base_uri": "https://localhost:8080/",
     "height": 455
    },
    "id": "RJU_ACj32zVQ",
    "outputId": "8bc67493-f45d-41ef-ef03-ba8e5f90f8e1"
   },
   "outputs": [],
   "source": [
    "fig = plt.figure()\n",
    "ax = fig.add_subplot(111, projection='3d')\n",
    "\n",
    "# Plot the Bloch sphere\n",
    "# Azimuthal angle ax (equator)\n",
    "u = np.linspace(0, 2 * np.pi, 100)\n",
    "# Polar angle ax (altitude)\n",
    "v = np.linspace(0, np.pi, 100)\n",
    "# This calculates all the sphere points by revolving the u and v vectors\n",
    "# x=cos(u)sin(v),y=sin(u)sin(v),z=cos(v) ==> spherical (u,v) to cartesian (x,y,z)\n",
    "x = np.outer(np.cos(u), np.sin(v))\n",
    "y = np.outer(np.sin(u), np.sin(v))\n",
    "z = np.outer(np.ones(np.size(u)), np.cos(v))\n",
    "# Draw the sphere\n",
    "ax.plot_surface(x, y, z, color='c', alpha=0.1)\n",
    "\n",
    "# Azimuth circle in XY plane\n",
    "azimuth_circle = np.linspace(0, phi - 8, 100)\n",
    "ax.plot(np.cos(azimuth_circle), np.sin(azimuth_circle), 0, color='blue', linestyle='--', label='Azimuth')\n",
    "\n",
    "# Polar arc in XZ plane (for simplicity, assuming phi=0)\n",
    "polar_arc_theta = np.linspace(0, theta - 8, 100)\n",
    "ax.plot(np.sin(polar_arc_theta), 0, np.cos(polar_arc_theta), color='green', linestyle='--', label='Altitude')\n",
    "\n",
    "ax.set_xlim([-1,1])\n",
    "ax.set_ylim([-1,1])\n",
    "ax.set_zlim([-1,1])\n",
    "ax.set_box_aspect([1,1,1])\n",
    "plt.title(\"Bloch Sphere & Measurement Probabilities\")\n",
    "plt.show()"
   ]
  }
 ],
 "metadata": {
  "colab": {
   "provenance": []
  },
  "kernelspec": {
   "display_name": "Python 3",
   "name": "python3"
  },
  "language_info": {
   "name": "python"
  }
 },
 "nbformat": 4,
 "nbformat_minor": 0
}
